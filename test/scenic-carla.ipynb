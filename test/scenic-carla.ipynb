{
 "cells": [
  {
   "cell_type": "code",
   "execution_count": null,
   "metadata": {},
   "outputs": [],
   "source": [
    "import random, scenic\n",
    "from scenic.simulators.carlanon import CarlanonSimulator\n",
    "import cv2\n",
    "import imageio\n",
    "import os\n",
    "random.seed(12345)"
   ]
  },
  {
   "cell_type": "code",
   "execution_count": null,
   "metadata": {},
   "outputs": [],
   "source": [
    "image_path = \"./images\"\n",
    "gif_path = \"./gifs\"\n",
    "scene_index = 0"
   ]
  },
  {
   "cell_type": "code",
   "execution_count": null,
   "metadata": {},
   "outputs": [],
   "source": [
    "# load scenic file and create carla simulator\n",
    "scenic_file = './Carla_Challenge/carlaChallenge4.scenic'\n",
    "scenario = scenic.scenarioFromFile(scenic_file, mode2D=True)\n",
    "scenario_params = scenario.params\n",
    "\n",
    "carla_map = scenario_params['carla_map']\n",
    "map_path = scenario_params['map']\n",
    "port = scenario_params['port']\n",
    "camera_on = scenario_params['camera_on']\n",
    "carla_simulator = CarlanonSimulator(carla_map=carla_map, map_path=map_path, port=port, camera_on=camera_on, image_path=image_path)"
   ]
  },
  {
   "cell_type": "code",
   "execution_count": null,
   "metadata": {},
   "outputs": [],
   "source": [
    "# generate scene from scenario\n",
    "scene, numIterations = scenario.generate()\n",
    "scene_index += 1"
   ]
  },
  {
   "cell_type": "code",
   "execution_count": null,
   "metadata": {},
   "outputs": [],
   "source": [
    "# create simulation, image folder will be delete and recreate\n",
    "simulation=carla_simulator.simulate(scene)"
   ]
  },
  {
   "cell_type": "code",
   "execution_count": null,
   "metadata": {},
   "outputs": [],
   "source": [
    "# convert frames to gif\n",
    "image_files = sorted([f for f in os.listdir(image_path) if f.endswith(\".png\")])\n",
    "\n",
    "frames = []\n",
    "for img_file in image_files:\n",
    "    img = cv2.imread(os.path.join(image_path, img_file))\n",
    "    frames.append(cv2.cvtColor(img, cv2.COLOR_BGR2RGB))\n",
    "\n",
    "imageio.mimsave(\"%s/scene%03d.gif\" % (gif_path, scene_index), frames, duration=0.05)"
   ]
  }
 ],
 "metadata": {
  "kernelspec": {
   "display_name": "scenic",
   "language": "python",
   "name": "python3"
  },
  "language_info": {
   "codemirror_mode": {
    "name": "ipython",
    "version": 3
   },
   "file_extension": ".py",
   "mimetype": "text/x-python",
   "name": "python",
   "nbconvert_exporter": "python",
   "pygments_lexer": "ipython3",
   "version": "3.10.16"
  }
 },
 "nbformat": 4,
 "nbformat_minor": 2
}
